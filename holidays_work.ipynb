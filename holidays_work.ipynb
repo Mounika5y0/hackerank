{
  "nbformat": 4,
  "nbformat_minor": 0,
  "metadata": {
    "colab": {
      "provenance": [],
      "authorship_tag": "ABX9TyMjeqiTbsjO8cBSI6Gst2ZK",
      "include_colab_link": true
    },
    "kernelspec": {
      "name": "python3",
      "display_name": "Python 3"
    },
    "language_info": {
      "name": "python"
    }
  },
  "cells": [
    {
      "cell_type": "markdown",
      "metadata": {
        "id": "view-in-github",
        "colab_type": "text"
      },
      "source": [
        "<a href=\"https://colab.research.google.com/github/Mounika5y0/hackerank/blob/main/holidays_work.ipynb\" target=\"_parent\"><img src=\"https://colab.research.google.com/assets/colab-badge.svg\" alt=\"Open In Colab\"/></a>"
      ]
    },
    {
      "cell_type": "code",
      "execution_count": 1,
      "metadata": {
        "colab": {
          "base_uri": "https://localhost:8080/"
        },
        "id": "iTUZ3lOwLrEs",
        "outputId": "2a95ba8f-d7c4-49f4-edba-2e11d8dafb0c"
      },
      "outputs": [
        {
          "output_type": "stream",
          "name": "stdout",
          "text": [
            "GOOD STRING\n",
            " BAD STRING\n",
            "GOOD STRING\n",
            " BAD STRING\n"
          ]
        }
      ],
      "source": [
        "import re\n",
        "def string(n:str)->str:\n",
        "    if re.fullmatch(r\"[A-P5-9]+\",n):\n",
        "          return \"GOOD STRING\"\n",
        "    else:\n",
        "         return\" BAD STRING\"\n",
        "print(string(\"ABCP579\"))\n",
        "print(string(\"ABQ579\"))\n",
        "print(string(\"A9P\"))\n",
        "print(string(\"a5P\"))"
      ]
    },
    {
      "cell_type": "code",
      "source": [
        "def match_string_ak(n:str)->str:\n",
        "    if re.fullmatch(r\"ak*+\",n):\n",
        "          return \"MATCH FOUND\"\n",
        "    else:\n",
        "        return \"MATCH NOT FOUND\"\n",
        "print(match_string_ak(\"a\"))\n",
        "print(match_string_ak(\"ak\"))\n",
        "print(match_string_ak(\"akkk\"))\n",
        "print(match_string_ak(\"b\"))\n",
        "print(match_string_ak(\"akkp\"))"
      ],
      "metadata": {
        "colab": {
          "base_uri": "https://localhost:8080/"
        },
        "id": "jv1Uzy5gL4Fe",
        "outputId": "7150d46a-9998-45be-f664-6c1807501ecb"
      },
      "execution_count": 2,
      "outputs": [
        {
          "output_type": "stream",
          "name": "stdout",
          "text": [
            "MATCH FOUND\n",
            "MATCH FOUND\n",
            "MATCH FOUND\n",
            "MATCH NOT FOUND\n",
            "MATCH NOT FOUND\n"
          ]
        }
      ]
    },
    {
      "cell_type": "code",
      "source": [
        "def match_string_ap(n:str)->str:\n",
        "    if re.fullmatch(r\"ap+\",n):\n",
        "          return \"MATCH FOUND\"\n",
        "    else:\n",
        "        return \"MATCH NOT FOUND\"\n",
        "print(match_string_ap(\"ap\"))\n",
        "print(match_string_ap(\"apppp\"))\n",
        "print(match_string_ap(\"a\"))"
      ],
      "metadata": {
        "colab": {
          "base_uri": "https://localhost:8080/"
        },
        "id": "vRVP5dvBL-R2",
        "outputId": "51708074-f40c-45ca-8703-d2969834cdf4"
      },
      "execution_count": 3,
      "outputs": [
        {
          "output_type": "stream",
          "name": "stdout",
          "text": [
            "MATCH FOUND\n",
            "MATCH FOUND\n",
            "MATCH NOT FOUND\n"
          ]
        }
      ]
    },
    {
      "cell_type": "code",
      "source": [
        "def match_string_az(n:str)->str:\n",
        "    if re.fullmatch(r\"az?\",n):\n",
        "          return \"MATCH FOUND\"\n",
        "    else:\n",
        "        return \"MATCH NOT FOUND\"\n",
        "print(match_string_az(\"a\"))\n",
        "print(match_string_az(\"az\"))\n",
        "print(match_string_az(\"azz\"))"
      ],
      "metadata": {
        "colab": {
          "base_uri": "https://localhost:8080/"
        },
        "id": "J6hh8JSLMC46",
        "outputId": "4699475c-3369-4062-a230-18c9494385e8"
      },
      "execution_count": 4,
      "outputs": [
        {
          "output_type": "stream",
          "name": "stdout",
          "text": [
            "MATCH FOUND\n",
            "MATCH FOUND\n",
            "MATCH NOT FOUND\n"
          ]
        }
      ]
    },
    {
      "cell_type": "code",
      "source": [
        "def match_string_ah(n:str)->str:\n",
        "    if re.fullmatch(r\"ah{3}\",n):\n",
        "          return \"MATCH FOUND\"\n",
        "    else:\n",
        "        return \"MATCH NOT FOUND\"\n",
        "print(match_string_ah(\"ahhh\"))\n",
        "print(match_string_ah(\"ahh\"))\n",
        "print(match_string_ah(\"ahhhh\"))"
      ],
      "metadata": {
        "colab": {
          "base_uri": "https://localhost:8080/"
        },
        "id": "nCEs4ir_MJDp",
        "outputId": "467776cc-83cb-4e1a-f894-cff3ab4c319e"
      },
      "execution_count": 5,
      "outputs": [
        {
          "output_type": "stream",
          "name": "stdout",
          "text": [
            "MATCH FOUND\n",
            "MATCH NOT FOUND\n",
            "MATCH NOT FOUND\n"
          ]
        }
      ]
    },
    {
      "cell_type": "code",
      "source": [
        "def match_string_ab(n:str)->str:\n",
        "    if re.fullmatch(r\"ab{2,3}\",n):\n",
        "          return \"MATCH FOUND\"\n",
        "    else:\n",
        "        return \"MATCH NOT FOUND\"\n",
        "print(match_string_ab(\"abb\"))\n",
        "print(match_string_ab(\"abbb\"))\n",
        "print(match_string_ab(\"ab\"))"
      ],
      "metadata": {
        "colab": {
          "base_uri": "https://localhost:8080/"
        },
        "id": "0ekKnUKoMNk1",
        "outputId": "38509cf6-6ed3-4c70-b946-03b6feb5af7b"
      },
      "execution_count": 6,
      "outputs": [
        {
          "output_type": "stream",
          "name": "stdout",
          "text": [
            "MATCH FOUND\n",
            "MATCH FOUND\n",
            "MATCH NOT FOUND\n"
          ]
        }
      ]
    },
    {
      "cell_type": "code",
      "source": [
        "def lowercase_underscore(n:str)->str:\n",
        "    if re.findall(r\"[a-z]+_[a-z]+\",n):\n",
        "          return \"MATCH FOUND\"\n",
        "    else:\n",
        "        return \"MATCH NOT FOUND\"\n",
        "print(lowercase_underscore(\"hello_world\"))\n",
        "print(lowercase_underscore(\"HELLO_world\"))\n",
        "print(lowercase_underscore(\"hi_SARA\"))\n",
        "print(lowercase_underscore(\"hi sara\"))\n",
        "print(lowercase_underscore(\"cse_e\"))"
      ],
      "metadata": {
        "colab": {
          "base_uri": "https://localhost:8080/"
        },
        "id": "Wn-Jz8GOMVAo",
        "outputId": "0be32483-c5b5-4b50-d4e6-5197d0f716ca"
      },
      "execution_count": 7,
      "outputs": [
        {
          "output_type": "stream",
          "name": "stdout",
          "text": [
            "MATCH FOUND\n",
            "MATCH NOT FOUND\n",
            "MATCH NOT FOUND\n",
            "MATCH NOT FOUND\n",
            "MATCH FOUND\n"
          ]
        }
      ]
    },
    {
      "cell_type": "code",
      "source": [
        "def uppercase_lowercase(n:str)->str:\n",
        "    if re.findall(r\"[A-Z]+[a-z]+\",n):\n",
        "          return \"MATCH FOUND\"\n",
        "    else:\n",
        "        return \"MATCH NOT FOUND\"\n",
        "print(uppercase_lowercase(\"Hello\"))\n",
        "print(uppercase_lowercase(\"hello\"))\n",
        "print(uppercase_lowercase(\"HELLO\"))"
      ],
      "metadata": {
        "colab": {
          "base_uri": "https://localhost:8080/"
        },
        "id": "1HY4drhwMZuu",
        "outputId": "07607bef-fa18-4682-a1c0-0541a26babb2"
      },
      "execution_count": 8,
      "outputs": [
        {
          "output_type": "stream",
          "name": "stdout",
          "text": [
            "MATCH FOUND\n",
            "MATCH NOT FOUND\n",
            "MATCH NOT FOUND\n"
          ]
        }
      ]
    },
    {
      "cell_type": "code",
      "source": [
        "def match_a_anything_a(n:str)->str:\n",
        "    if re.fullmatch(r\"^a.+a$\",n):\n",
        "          return \"MATCH FOUND\"\n",
        "    else:\n",
        "        return \"MATCH NOT FOUND\"\n",
        "print(match_a_anything_a(\"abcda\"))\n",
        "print(match_a_anything_a(\"a123a\"))\n",
        "print(match_a_anything_a(\"a\"))\n",
        "print(match_a_anything_a(\"ab\"))"
      ],
      "metadata": {
        "colab": {
          "base_uri": "https://localhost:8080/"
        },
        "id": "Xky6PuIHMeIA",
        "outputId": "7669491f-509f-4e7c-be5a-8ffdfe82e791"
      },
      "execution_count": 9,
      "outputs": [
        {
          "output_type": "stream",
          "name": "stdout",
          "text": [
            "MATCH FOUND\n",
            "MATCH FOUND\n",
            "MATCH NOT FOUND\n",
            "MATCH NOT FOUND\n"
          ]
        }
      ]
    },
    {
      "cell_type": "code",
      "source": [
        "def match_word_start(n:str)->str:\n",
        "    if re.match(r\"^[a-zA-Z]+\",n):\n",
        "          return \"MATCH FOUND\"\n",
        "    else:\n",
        "        return \"MATCH NOT FOUND\"\n",
        "print(match_word_start(\"Hello world\"))\n",
        "print(match_word_start(\"123_go\"))\n",
        "print(match_word_start(\"!hi there\"))"
      ],
      "metadata": {
        "colab": {
          "base_uri": "https://localhost:8080/"
        },
        "id": "Lm1hbbxIMi0g",
        "outputId": "1163db99-ba79-458f-f8de-0dc867fd7a72"
      },
      "execution_count": 10,
      "outputs": [
        {
          "output_type": "stream",
          "name": "stdout",
          "text": [
            "MATCH FOUND\n",
            "MATCH NOT FOUND\n",
            "MATCH NOT FOUND\n"
          ]
        }
      ]
    }
  ]
}